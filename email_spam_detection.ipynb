{
  "cells": [
    {
      "cell_type": "markdown",
      "metadata": {
        "id": "view-in-github",
        "colab_type": "text"
      },
      "source": [
        "<a href=\"https://colab.research.google.com/github/Kesavvinay/Data-Science-Intern/blob/main/email_spam_detection.ipynb\" target=\"_parent\"><img src=\"https://colab.research.google.com/assets/colab-badge.svg\" alt=\"Open In Colab\"/></a>"
      ]
    },
    {
      "cell_type": "markdown",
      "source": [
        "SPAM EMAIL DETECTION"
      ],
      "metadata": {
        "id": "8QG2drIe4Hmu"
      }
    },
    {
      "cell_type": "code",
      "source": [
        "!pip install pandas matplotlib"
      ],
      "metadata": {
        "id": "EAjKnyAKwPLl"
      },
      "execution_count": null,
      "outputs": []
    },
    {
      "cell_type": "code",
      "source": [
        "import pandas as pd\n",
        "data = pd.read_csv('/content/spam (2).csv',encoding='latin-1')\n",
        "\n",
        "print(data.head())"
      ],
      "metadata": {
        "id": "j2CtAjiByLit"
      },
      "execution_count": null,
      "outputs": []
    },
    {
      "cell_type": "markdown",
      "source": [
        "NUMBER OF HAM AND SPAM MAILS"
      ],
      "metadata": {
        "id": "7npGN-4T4VM2"
      }
    },
    {
      "cell_type": "code",
      "source": [
        "import matplotlib.pyplot as plt\n",
        "\n",
        "#Count the occurrences of ham and spam\n",
        "count = data['v1'].value_counts()\n",
        "\n",
        "#Plot the data\n",
        "plt.bar(count.index, count.values)\n",
        "plt.xlabel('Email Type')\n",
        "plt.ylabel('Count')\n",
        "plt.title('Distribution of Ham and Spam Emails')\n",
        "plt.show()\n"
      ],
      "metadata": {
        "id": "VeGrL595ytIe"
      },
      "execution_count": null,
      "outputs": []
    },
    {
      "cell_type": "markdown",
      "source": [
        "PIE CHART - EMAIL TYPE PERCENTAGE"
      ],
      "metadata": {
        "id": "JrqAGb1r4iw9"
      }
    },
    {
      "cell_type": "code",
      "source": [
        "plt.pie(count.values, labels=count.index, autopct='%1.1f%%')\n",
        "plt.title('Percentage of Ham and Spam Emails')\n",
        "plt.show()"
      ],
      "metadata": {
        "id": "t5FSJ0xd0ERG"
      },
      "execution_count": null,
      "outputs": []
    },
    {
      "cell_type": "markdown",
      "source": [
        "HISTOGRAM - EMAIL CONTENT LENGTH"
      ],
      "metadata": {
        "id": "-jXnPliK4vln"
      }
    },
    {
      "cell_type": "code",
      "source": [
        "data['Content Length'] = data['v2'].apply(len)\n",
        "plt.hist(data[data['v1'] == 'ham']['Content Length'], bins=20, alpha=0.5, label='Ham')\n",
        "plt.hist(data[data['v1'] == 'spam']['Content Length'], bins=20, alpha=0.5, label='Spam')\n",
        "plt.xlabel('Content Length')\n",
        "plt.ylabel('Frequency')\n",
        "plt.title('Email Content Length Distribution')\n",
        "plt.legend()"
      ],
      "metadata": {
        "id": "xnW0gzAc0t_u"
      },
      "execution_count": null,
      "outputs": []
    },
    {
      "cell_type": "markdown",
      "source": [
        "BOX PLOT - EMAIL CONTENT LENGTH BY TYPE"
      ],
      "metadata": {
        "id": "ZFSm6z5R48tI"
      }
    },
    {
      "cell_type": "code",
      "source": [
        "data.boxplot(column='Content Length', by='v1')\n",
        "plt.ylabel('Content Length')\n",
        "plt.title('Email Content Length Distribution by Type')\n",
        "plt.suptitle('') #Remove the default title\n",
        "plt.xticks([1,2], ['Ham','Spam'])\n",
        "plt.show()"
      ],
      "metadata": {
        "id": "1xGAdne_2390"
      },
      "execution_count": null,
      "outputs": []
    }
  ],
  "metadata": {
    "colab": {
      "provenance": [],
      "include_colab_link": true
    },
    "kernelspec": {
      "display_name": "Python 3",
      "name": "python3"
    }
  },
  "nbformat": 4,
  "nbformat_minor": 0
}